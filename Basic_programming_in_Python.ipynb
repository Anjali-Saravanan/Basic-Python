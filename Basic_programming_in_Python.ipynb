{
  "nbformat": 4,
  "nbformat_minor": 0,
  "metadata": {
    "colab": {
      "name": "Basic programming in Python.ipynb",
      "provenance": [],
      "collapsed_sections": [],
      "authorship_tag": "ABX9TyO3M7DVGUiGU/GXtvCDN70f",
      "include_colab_link": true
    },
    "kernelspec": {
      "name": "python3",
      "display_name": "Python 3"
    },
    "language_info": {
      "name": "python"
    }
  },
  "cells": [
    {
      "cell_type": "markdown",
      "metadata": {
        "id": "view-in-github",
        "colab_type": "text"
      },
      "source": [
        "<a href=\"https://colab.research.google.com/github/Anjali-Saravanan/Basic-Python/blob/main/Basic_programming_in_Python.ipynb\" target=\"_parent\"><img src=\"https://colab.research.google.com/assets/colab-badge.svg\" alt=\"Open In Colab\"/></a>"
      ]
    },
    {
      "cell_type": "code",
      "metadata": {
        "colab": {
          "base_uri": "https://localhost:8080/"
        },
        "id": "wZVDl85dHtOc",
        "outputId": "92625475-3317-4f1d-c37a-295e2881b844"
      },
      "source": [
        "#string processing\n",
        "topic = \"Foundations of Machine Learning\"\n",
        "print(topic)"
      ],
      "execution_count": null,
      "outputs": [
        {
          "output_type": "stream",
          "text": [
            "Foundations of Machine Learning\n"
          ],
          "name": "stdout"
        }
      ]
    },
    {
      "cell_type": "code",
      "metadata": {
        "colab": {
          "base_uri": "https://localhost:8080/"
        },
        "id": "JXkRsEi8Jzm2",
        "outputId": "67e21ebf-c7e1-41f1-aa73-613d324db6ce"
      },
      "source": [
        "print(topic[-1])"
      ],
      "execution_count": null,
      "outputs": [
        {
          "output_type": "stream",
          "text": [
            "g\n"
          ],
          "name": "stdout"
        }
      ]
    },
    {
      "cell_type": "code",
      "metadata": {
        "colab": {
          "base_uri": "https://localhost:8080/"
        },
        "id": "ly3AlThYJ4Fd",
        "outputId": "6745e283-9310-497b-e63e-4283e8345d0e"
      },
      "source": [
        "print(topic[-2])"
      ],
      "execution_count": null,
      "outputs": [
        {
          "output_type": "stream",
          "text": [
            "n\n"
          ],
          "name": "stdout"
        }
      ]
    },
    {
      "cell_type": "code",
      "metadata": {
        "colab": {
          "base_uri": "https://localhost:8080/"
        },
        "id": "RHK5rxTtKCGc",
        "outputId": "ef9a6e02-58d6-4392-d2af-6f5d8da46efa"
      },
      "source": [
        "print(topic[0])"
      ],
      "execution_count": null,
      "outputs": [
        {
          "output_type": "stream",
          "text": [
            "F\n"
          ],
          "name": "stdout"
        }
      ]
    },
    {
      "cell_type": "code",
      "metadata": {
        "colab": {
          "base_uri": "https://localhost:8080/"
        },
        "id": "Nuv-0hHUKJ4E",
        "outputId": "b2ad97a8-8633-426c-f2b2-237eba79685e"
      },
      "source": [
        "print(topic[0:10])"
      ],
      "execution_count": null,
      "outputs": [
        {
          "output_type": "stream",
          "text": [
            "Foundation\n"
          ],
          "name": "stdout"
        }
      ]
    },
    {
      "cell_type": "code",
      "metadata": {
        "colab": {
          "base_uri": "https://localhost:8080/"
        },
        "id": "isS5d477KOoo",
        "outputId": "fc6ab19c-2b7a-4b49-b5e3-07ea7125566e"
      },
      "source": [
        "print(topic.lower())"
      ],
      "execution_count": null,
      "outputs": [
        {
          "output_type": "stream",
          "text": [
            "foundations of machine learning\n"
          ],
          "name": "stdout"
        }
      ]
    },
    {
      "cell_type": "code",
      "metadata": {
        "colab": {
          "base_uri": "https://localhost:8080/"
        },
        "id": "-MnrmI7DKW3K",
        "outputId": "1c6dbad2-80f1-48d0-dd4e-fe9b62044a0f"
      },
      "source": [
        "print(topic.upper())"
      ],
      "execution_count": null,
      "outputs": [
        {
          "output_type": "stream",
          "text": [
            "FOUNDATIONS OF MACHINE LEARNING\n"
          ],
          "name": "stdout"
        }
      ]
    },
    {
      "cell_type": "code",
      "metadata": {
        "colab": {
          "base_uri": "https://localhost:8080/"
        },
        "id": "L1eHZm0AKqwu",
        "outputId": "3eead1a8-842f-41c0-f19a-8f17f06de288"
      },
      "source": [
        "#to change the variable value\n",
        "topic = topic.lower()\n",
        "print(topic)"
      ],
      "execution_count": null,
      "outputs": [
        {
          "output_type": "stream",
          "text": [
            "foundations of machine learning\n"
          ],
          "name": "stdout"
        }
      ]
    },
    {
      "cell_type": "code",
      "metadata": {
        "colab": {
          "base_uri": "https://localhost:8080/",
          "height": 35
        },
        "id": "IcQVTkf4K7lU",
        "outputId": "91dc0368-6b2f-4ec4-bda0-3eaa021adb4f"
      },
      "source": [
        "topic\n"
      ],
      "execution_count": null,
      "outputs": [
        {
          "output_type": "execute_result",
          "data": {
            "application/vnd.google.colaboratory.intrinsic+json": {
              "type": "string"
            },
            "text/plain": [
              "'foundations of machine learning'"
            ]
          },
          "metadata": {
            "tags": []
          },
          "execution_count": 11
        }
      ]
    },
    {
      "cell_type": "code",
      "metadata": {
        "colab": {
          "base_uri": "https://localhost:8080/"
        },
        "id": "u79vLXfbK8x0",
        "outputId": "68c8fb98-5c48-4ce8-d444-8bd37d777997"
      },
      "source": [
        "print(topic.islower())"
      ],
      "execution_count": null,
      "outputs": [
        {
          "output_type": "stream",
          "text": [
            "True\n"
          ],
          "name": "stdout"
        }
      ]
    },
    {
      "cell_type": "code",
      "metadata": {
        "colab": {
          "base_uri": "https://localhost:8080/"
        },
        "id": "E19tQl7wLBpN",
        "outputId": "5046ea58-4b4a-4c76-9919-c0e8cc90f112"
      },
      "source": [
        "print(topic.isupper())"
      ],
      "execution_count": null,
      "outputs": [
        {
          "output_type": "stream",
          "text": [
            "False\n"
          ],
          "name": "stdout"
        }
      ]
    },
    {
      "cell_type": "code",
      "metadata": {
        "colab": {
          "base_uri": "https://localhost:8080/"
        },
        "id": "QrNOPRM4LEuR",
        "outputId": "e7948a3e-6e5c-4726-a9c6-d90dc6ca8e54"
      },
      "source": [
        "print(topic.find(\"Machine\")) #returns -1 since it is not present in the variable"
      ],
      "execution_count": null,
      "outputs": [
        {
          "output_type": "stream",
          "text": [
            "-1\n"
          ],
          "name": "stdout"
        }
      ]
    },
    {
      "cell_type": "code",
      "metadata": {
        "colab": {
          "base_uri": "https://localhost:8080/"
        },
        "id": "LkbY9a4uLS31",
        "outputId": "9f90f94e-4364-4c36-e4e9-e1ddb2f49ef2"
      },
      "source": [
        "print(topic.find(\"machine\"))#returns the position of the first letter"
      ],
      "execution_count": null,
      "outputs": [
        {
          "output_type": "stream",
          "text": [
            "15\n"
          ],
          "name": "stdout"
        }
      ]
    },
    {
      "cell_type": "code",
      "metadata": {
        "colab": {
          "base_uri": "https://localhost:8080/"
        },
        "id": "Ufv8vgQrLrZv",
        "outputId": "f79985dc-7634-43ca-afea-b860f941d2cd"
      },
      "source": [
        "#replace(\"word to be replaced,word used for replacing\")\n",
        "print(topic.replace(\"machine\",\"deep\"))#returns the value with the replaced word"
      ],
      "execution_count": null,
      "outputs": [
        {
          "output_type": "stream",
          "text": [
            "foundations of deep learning\n"
          ],
          "name": "stdout"
        }
      ]
    },
    {
      "cell_type": "code",
      "metadata": {
        "colab": {
          "base_uri": "https://localhost:8080/"
        },
        "id": "aYtbpKB_MC1L",
        "outputId": "bbd49331-d496-4cff-f939-d3015ca803d1"
      },
      "source": [
        "#integer processing(methods on integers)\n",
        "print(55/24)\n"
      ],
      "execution_count": null,
      "outputs": [
        {
          "output_type": "stream",
          "text": [
            "2.2916666666666665\n"
          ],
          "name": "stdout"
        }
      ]
    },
    {
      "cell_type": "code",
      "metadata": {
        "colab": {
          "base_uri": "https://localhost:8080/"
        },
        "id": "3JQdMVTZMaGo",
        "outputId": "6a09126f-7ca6-4597-f162-a2db1899c0cb"
      },
      "source": [
        "golden_ratio = (55/34)\n",
        "print(type(golden_ratio))"
      ],
      "execution_count": null,
      "outputs": [
        {
          "output_type": "stream",
          "text": [
            "<class 'float'>\n"
          ],
          "name": "stdout"
        }
      ]
    },
    {
      "cell_type": "code",
      "metadata": {
        "colab": {
          "base_uri": "https://localhost:8080/"
        },
        "id": "qZx_2PD7MkxA",
        "outputId": "c9ee1397-0902-4ae7-f563-5d53fd72cf8d"
      },
      "source": [
        "# // returns whole number after dividing and \n",
        "#/ returns a float value after dividing\n",
        "print(55//34, 55/34)"
      ],
      "execution_count": null,
      "outputs": [
        {
          "output_type": "stream",
          "text": [
            "1 1.6176470588235294\n"
          ],
          "name": "stdout"
        }
      ]
    },
    {
      "cell_type": "code",
      "metadata": {
        "colab": {
          "base_uri": "https://localhost:8080/"
        },
        "id": "ykbMqBRcMuT_",
        "outputId": "57ed4c4e-33be-4a66-b4f7-e59f2faa5ae2"
      },
      "source": [
        "print(55%34)#returns the remainder of the division"
      ],
      "execution_count": null,
      "outputs": [
        {
          "output_type": "stream",
          "text": [
            "21\n"
          ],
          "name": "stdout"
        }
      ]
    },
    {
      "cell_type": "code",
      "metadata": {
        "colab": {
          "base_uri": "https://localhost:8080/"
        },
        "id": "n5ARQHxZM1pi",
        "outputId": "56114bcb-e4a4-400f-e9a4-eeb5cba0a54e"
      },
      "source": [
        "print(2**3)#exponent 2 to the power 3"
      ],
      "execution_count": null,
      "outputs": [
        {
          "output_type": "stream",
          "text": [
            "8\n"
          ],
          "name": "stdout"
        }
      ]
    },
    {
      "cell_type": "code",
      "metadata": {
        "colab": {
          "base_uri": "https://localhost:8080/"
        },
        "id": "IGrXT3V-M4n-",
        "outputId": "5e7d2984-f517-4f27-ee40-c2b5b2c29e56"
      },
      "source": [
        "a = 2\n",
        "b = 3\n",
        "print(a+b, a-b, a*b, a/b, a%b)\n"
      ],
      "execution_count": null,
      "outputs": [
        {
          "output_type": "stream",
          "text": [
            "5 -1 6 0.6666666666666666 2\n"
          ],
          "name": "stdout"
        }
      ]
    },
    {
      "cell_type": "code",
      "metadata": {
        "colab": {
          "base_uri": "https://localhost:8080/"
        },
        "id": "ob7f3qdXNfqb",
        "outputId": "61c18ff9-7a0c-4256-9075-4095d1ba4627"
      },
      "source": [
        "is_android = False\n",
        "print(is_android == False)"
      ],
      "execution_count": null,
      "outputs": [
        {
          "output_type": "stream",
          "text": [
            "True\n"
          ],
          "name": "stdout"
        }
      ]
    },
    {
      "cell_type": "code",
      "metadata": {
        "colab": {
          "base_uri": "https://localhost:8080/"
        },
        "id": "McrVRoy4Nt2H",
        "outputId": "ffc4dedb-f536-4c9d-8dc5-d89a1e1dd724"
      },
      "source": [
        "num_of_speakers = 1\n",
        "print(is_android == True and num_of_speakers > 1)"
      ],
      "execution_count": null,
      "outputs": [
        {
          "output_type": "stream",
          "text": [
            "False\n"
          ],
          "name": "stdout"
        }
      ]
    },
    {
      "cell_type": "code",
      "metadata": {
        "id": "0XdnqnXpN2jG"
      },
      "source": [
        "#if block\n",
        "hours_per_week = 14\n",
        "my_name = \"Computer\""
      ],
      "execution_count": null,
      "outputs": []
    },
    {
      "cell_type": "code",
      "metadata": {
        "id": "IW6Yf79HOBp3",
        "colab": {
          "base_uri": "https://localhost:8080/"
        },
        "outputId": "42a60a03-2292-49e9-9732-9bdf6070f577"
      },
      "source": [
        "if hours_per_week > 10:\n",
        "    print(my_name + \" is doing good\")\n",
        "\n",
        " "
      ],
      "execution_count": null,
      "outputs": [
        {
          "output_type": "stream",
          "text": [
            "Computer is doing good\n"
          ],
          "name": "stdout"
        }
      ]
    },
    {
      "cell_type": "code",
      "metadata": {
        "colab": {
          "base_uri": "https://localhost:8080/"
        },
        "id": "BzbmIbQEPw0a",
        "outputId": "2b0d9d4a-a919-45e3-c260-db320aa50dea"
      },
      "source": [
        "#for loop\n",
        "for i in range(5):\n",
        "    print(1)\n"
      ],
      "execution_count": null,
      "outputs": [
        {
          "output_type": "stream",
          "text": [
            "1\n",
            "1\n",
            "1\n",
            "1\n",
            "1\n"
          ],
          "name": "stdout"
        }
      ]
    },
    {
      "cell_type": "code",
      "metadata": {
        "colab": {
          "base_uri": "https://localhost:8080/"
        },
        "id": "H2WZ0r7LRD63",
        "outputId": "f228dab2-aa5d-4c98-91b4-c7384036f271"
      },
      "source": [
        "for i in range(5):\n",
        "    print(i)"
      ],
      "execution_count": null,
      "outputs": [
        {
          "output_type": "stream",
          "text": [
            "0\n",
            "1\n",
            "2\n",
            "3\n",
            "4\n"
          ],
          "name": "stdout"
        }
      ]
    },
    {
      "cell_type": "code",
      "metadata": {
        "id": "hFUq1CYvRMDX"
      },
      "source": [
        "range?"
      ],
      "execution_count": null,
      "outputs": []
    },
    {
      "cell_type": "code",
      "metadata": {
        "colab": {
          "base_uri": "https://localhost:8080/"
        },
        "id": "lVhK3Xp-RS69",
        "outputId": "a56e694b-fbb2-4ee4-9936-c6243b644de2"
      },
      "source": [
        "for i in range(0,10,2):\n",
        "    print(i)\n"
      ],
      "execution_count": null,
      "outputs": [
        {
          "output_type": "stream",
          "text": [
            "0\n",
            "2\n",
            "4\n",
            "6\n",
            "8\n"
          ],
          "name": "stdout"
        }
      ]
    },
    {
      "cell_type": "code",
      "metadata": {
        "colab": {
          "base_uri": "https://localhost:8080/"
        },
        "id": "VrpkidrFRYkx",
        "outputId": "e4d33fc3-521c-4305-8767-24ebd7a81208"
      },
      "source": [
        "for i in range(2,5):\n",
        "    print(i, i**2)"
      ],
      "execution_count": null,
      "outputs": [
        {
          "output_type": "stream",
          "text": [
            "2 4\n",
            "3 9\n",
            "4 16\n"
          ],
          "name": "stdout"
        }
      ]
    },
    {
      "cell_type": "code",
      "metadata": {
        "colab": {
          "base_uri": "https://localhost:8080/"
        },
        "id": "iWO2IkB_Smga",
        "outputId": "252891aa-c63c-47ce-fad4-d68a955e6e4b"
      },
      "source": [
        "for i in range(2,15,3):\n",
        "    print(i,i**2)\n"
      ],
      "execution_count": null,
      "outputs": [
        {
          "output_type": "stream",
          "text": [
            "2 4\n",
            "5 25\n",
            "8 64\n",
            "11 121\n",
            "14 196\n"
          ],
          "name": "stdout"
        }
      ]
    },
    {
      "cell_type": "code",
      "metadata": {
        "colab": {
          "base_uri": "https://localhost:8080/"
        },
        "id": "UC315TTOSvTY",
        "outputId": "627a4daa-c7e7-4541-9b89-f3dfc1772617"
      },
      "source": [
        "#fibonacci series\n",
        "a = 1  \n",
        "b = 0 \n",
        "\n",
        "n = int(input(\"Enter a number: \")) \n",
        "\n",
        "for i in range(0,n): \n",
        "    temp = b \n",
        "    b = a\n",
        "    a = temp + b\n",
        "    last_digit = temp\n",
        "    print(temp)\n",
        "\n",
        "print(\"The last number in the series is \" + str(last_digit))    \n",
        "\n"
      ],
      "execution_count": null,
      "outputs": [
        {
          "output_type": "stream",
          "text": [
            "Enter a number: 4\n",
            "0\n",
            "1\n",
            "1\n",
            "2\n",
            "The last number in the series is 2\n"
          ],
          "name": "stdout"
        }
      ]
    }
  ]
}